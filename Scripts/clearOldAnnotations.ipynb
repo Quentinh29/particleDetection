{
 "cells": [
  {
   "cell_type": "code",
   "execution_count": 37,
   "id": "13467bf6-8b50-40c0-9ba1-0d213b2bf58e",
   "metadata": {},
   "outputs": [],
   "source": [
    "import shutil\n",
    "import json\n",
    "import glob\n",
    "import os\n",
    "import sys\n",
    "import re\n",
    "\n",
    "def starts_with_specific_prefix(name):\n",
    "    prefixes = ['M_MA_1_', 'S50_7_', 'T50_1_', 'T50_9_', 'T_50_L_2_']\n",
    "    pattern = '|'.join(map(re.escape, prefixes))\n",
    "    regex = re.compile(r'^(' + pattern + r')')\n",
    "    return bool(regex.match(name))"
   ]
  },
  {
   "cell_type": "code",
   "execution_count": 44,
   "id": "1f2b01d3-4254-4c49-bbe5-ce182843ddb0",
   "metadata": {},
   "outputs": [
    {
     "data": {
      "text/plain": [
       "0"
      ]
     },
     "execution_count": 44,
     "metadata": {},
     "output_type": "execute_result"
    }
   ],
   "source": [
    "imagesIdToRemove = []\n",
    "for image in data['images']:\n",
    "    if starts_with_specific_prefix(image['file_name']):\n",
    "        imagesIdToRemove.append(image['id'])\n",
    "        print(image)\n",
    "\n",
    "finalAnnotations = []\n",
    "for annotation in data['annotations']:\n",
    "    if annotation['image_id'] in imagesIdToRemove and annotation['category_id'] != 16:\n",
    "        finalAnnotations.append(annotation)\n",
    "        #imagesWithAnnotations.append(annotation['image_id'])\n",
    "        \n",
    "len(imagesIdToRemove)"
   ]
  },
  {
   "cell_type": "code",
   "execution_count": 43,
   "id": "c8207a4b-996d-44de-9997-2223d03979e4",
   "metadata": {},
   "outputs": [
    {
     "data": {
      "text/plain": [
       "[{'id': 3,\n",
       "  'name': 'fibers',\n",
       "  'supercategory': '',\n",
       "  'color': '#c31e8f',\n",
       "  'metadata': {},\n",
       "  'keypoint_colors': []},\n",
       " {'id': 23,\n",
       "  'name': '100µm',\n",
       "  'supercategory': '',\n",
       "  'color': '#d30ae5',\n",
       "  'metadata': {},\n",
       "  'keypoint_colors': []},\n",
       " {'id': 24,\n",
       "  'name': '50cµm',\n",
       "  'supercategory': '',\n",
       "  'color': '#08e735',\n",
       "  'metadata': {},\n",
       "  'keypoint_colors': []},\n",
       " {'id': 25,\n",
       "  'name': '150µm',\n",
       "  'supercategory': '',\n",
       "  'color': '#f10909',\n",
       "  'metadata': {},\n",
       "  'keypoint_colors': []},\n",
       " {'id': 26,\n",
       "  'name': 'Grey Particles from stopper',\n",
       "  'supercategory': '',\n",
       "  'color': '#0c09d3',\n",
       "  'metadata': {},\n",
       "  'keypoint_colors': []}]"
      ]
     },
     "execution_count": 43,
     "metadata": {},
     "output_type": "execute_result"
    }
   ],
   "source": [
    "coco_annotations = 'finalAnnotations/train.json'\n",
    "with open(coco_annotations, 'r') as f:\n",
    "    data = json.load(f)\n",
    "\n",
    "\n",
    "data['categories']"
   ]
  },
  {
   "cell_type": "code",
   "execution_count": 42,
   "id": "406b8186-04cd-4ca6-bdfd-0dedf213f74a",
   "metadata": {},
   "outputs": [],
   "source": [
    "coco_annotations = 'Annotations/train.json'\n",
    "with open(coco_annotations, 'r') as f:\n",
    "    data = json.load(f)\n",
    "\n",
    "imagesIdToRemove = []\n",
    "for image in data['images']:\n",
    "    if starts_with_specific_prefix(image['file_name']):\n",
    "        imagesIdToRemove.append(image['id'])\n",
    "        \n",
    "finalAnnotations = []\n",
    "#imagesWithAnnotations = []\n",
    "for annotation in data['annotations']:\n",
    "    if annotation['image_id'] not in imagesIdToRemove and annotation['category_id'] != 16:\n",
    "        finalAnnotations.append(annotation)\n",
    "        #imagesWithAnnotations.append(annotation['image_id'])\n",
    "\n",
    "finalImages = []\n",
    "#imagesWithAnnotations = list(set(imagesWithAnnotations))\n",
    "for image in data['images']:\n",
    "    if not image['id'] in imagesIdToRemove: # and image['id'] in imagesWithAnnotations:\n",
    "        finalImages.append(image)\n",
    "        \n",
    "finalCategories = []\n",
    "for category in data['categories']:\n",
    "    if category['name'] not in ['50µm']:\n",
    "        finalCategories.append(category)\n",
    "        \n",
    "finalData = {'images': finalImages,\n",
    "             'categories': finalCategories,\n",
    "             'annotations': finalAnnotations}\n",
    "\n",
    "file_name = \"finalAnnotations/train.json\"\n",
    "with open(file_name, \"w\") as json_file:\n",
    "    json.dump(finalData, json_file, indent=4)"
   ]
  },
  {
   "cell_type": "code",
   "execution_count": 45,
   "id": "57f0f7c2-0cba-4ac1-9365-07afceba3601",
   "metadata": {},
   "outputs": [
    {
     "data": {
      "text/plain": [
       "[{'id': 3,\n",
       "  'name': 'fibers',\n",
       "  'supercategory': '',\n",
       "  'color': '#c31e8f',\n",
       "  'metadata': {},\n",
       "  'keypoint_colors': []},\n",
       " {'id': 23,\n",
       "  'name': '100µm',\n",
       "  'supercategory': '',\n",
       "  'color': '#d30ae5',\n",
       "  'metadata': {},\n",
       "  'keypoint_colors': []},\n",
       " {'id': 24,\n",
       "  'name': '50cµm',\n",
       "  'supercategory': '',\n",
       "  'color': '#08e735',\n",
       "  'metadata': {},\n",
       "  'keypoint_colors': []},\n",
       " {'id': 25,\n",
       "  'name': '150µm',\n",
       "  'supercategory': '',\n",
       "  'color': '#f10909',\n",
       "  'metadata': {},\n",
       "  'keypoint_colors': []},\n",
       " {'id': 26,\n",
       "  'name': 'Grey Particles from stopper',\n",
       "  'supercategory': '',\n",
       "  'color': '#0c09d3',\n",
       "  'metadata': {},\n",
       "  'keypoint_colors': []}]"
      ]
     },
     "execution_count": 45,
     "metadata": {},
     "output_type": "execute_result"
    }
   ],
   "source": [
    "data['categories']"
   ]
  },
  {
   "cell_type": "code",
   "execution_count": null,
   "id": "7ffbd924-2550-424e-b661-7311e6e0def5",
   "metadata": {},
   "outputs": [],
   "source": []
  }
 ],
 "metadata": {
  "kernelspec": {
   "display_name": "Python 3 (ipykernel)",
   "language": "python",
   "name": "python3"
  },
  "language_info": {
   "codemirror_mode": {
    "name": "ipython",
    "version": 3
   },
   "file_extension": ".py",
   "mimetype": "text/x-python",
   "name": "python",
   "nbconvert_exporter": "python",
   "pygments_lexer": "ipython3",
   "version": "3.8.12"
  }
 },
 "nbformat": 4,
 "nbformat_minor": 5
}
