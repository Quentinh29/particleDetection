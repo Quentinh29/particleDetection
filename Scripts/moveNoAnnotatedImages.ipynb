{
 "cells": [
  {
   "cell_type": "code",
   "execution_count": 18,
   "id": "5846ef3d-3d52-4e63-8345-bcc6742a12d0",
   "metadata": {},
   "outputs": [],
   "source": [
    "import os\n",
    "import glob\n",
    "\n",
    "trainImagesFolder = 'yolov7/particleDatasetFull/images/train'\n",
    "validImagesFolder = 'yolov7/particleDatasetFull/images/valid'\n",
    "trainLabelsFolder = 'yolov7/particleDatasetFull/labels/train'\n",
    "validLabelsFolder = 'yolov7/particleDatasetFull/labels/valid'\n",
    "\n",
    "trainAnnotatedImages = []\n",
    "validAnnotatedImages = []\n",
    "\n",
    "for labelName in sorted(glob.glob(trainLabelsFolder + '/*.txt')):\n",
    "    trainAnnotatedImages.append(labelName.rsplit('/', 1)[1].rsplit('.', 1)[0])\n",
    "\n",
    "for labelName in sorted(glob.glob(validLabelsFolder + '/*.txt')):\n",
    "    validAnnotatedImages.append(labelName.rsplit('/', 1)[1].rsplit('.', 1)[0])"
   ]
  },
  {
   "cell_type": "code",
   "execution_count": 24,
   "id": "0957e77b-4d80-41a7-a27a-ad34504a0e86",
   "metadata": {},
   "outputs": [],
   "source": [
    "import shutil\n",
    "\n",
    "for imgPath in sorted(glob.glob(trainImagesFolder + '/*.png')):\n",
    "    imgName = imgPath.rsplit('/', 1)[1].rsplit('.', 1)[0]\n",
    "    if imgName not in trainAnnotatedImages:\n",
    "        src = imgPath\n",
    "        dest = 'noAnntatedImagesFull/train/' + imgName + '.png'\n",
    "        shutil.move(src, dest)\n",
    "\n",
    "for imgPath in sorted(glob.glob(validImagesFolder + '/*.png')):\n",
    "    imgName = imgPath.rsplit('/', 1)[1].rsplit('.', 1)[0]\n",
    "    if imgName not in validAnnotatedImages:\n",
    "        src = imgPath\n",
    "        dest = 'noAnntatedImagesFull/valid/' + imgName + '.png'\n",
    "        shutil.move(src, dest)"
   ]
  },
  {
   "cell_type": "code",
   "execution_count": 11,
   "id": "85514034-4210-4c9e-a5ea-3f85a48538d2",
   "metadata": {},
   "outputs": [
    {
     "name": "stdout",
     "output_type": "stream",
     "text": [
      "M100_5_01_01\n",
      "M100_5_01_02\n",
      "M100_5_01_03\n",
      "M100_5_01_04\n",
      "M100_5_01_05\n",
      "M100_5_01_06\n",
      "M100_5_01_07\n",
      "M100_5_01_08\n",
      "M100_5_01_09\n",
      "M100_5_01_10\n"
     ]
    }
   ],
   "source": [
    "import os\n",
    "import glob\n",
    "\n",
    "trainImagesFolder = 'yolov7/particleDatasetFull/images/train'\n",
    "validImagesFolder = 'yolov7/particleDatasetFull/images/valid'\n",
    "trainLabelsFolder = 'yolov7/particleDatasetFull/labels/train'\n",
    "validLabelsFolder = 'yolov7/particleDatasetFull/labels/valid'\n",
    "\n",
    "for imgName in sorted(glob.glob(validImagesFolder + '/*.png'))[:10]:\n",
    "    print(imgName.rsplit('/', 1)[1].rsplit('.', 1)[0])"
   ]
  },
  {
   "cell_type": "code",
   "execution_count": null,
   "id": "b1414515-64ad-4427-8a01-58f7a2fa98d2",
   "metadata": {},
   "outputs": [],
   "source": []
  }
 ],
 "metadata": {
  "kernelspec": {
   "display_name": "Python 3 (ipykernel)",
   "language": "python",
   "name": "python3"
  },
  "language_info": {
   "codemirror_mode": {
    "name": "ipython",
    "version": 3
   },
   "file_extension": ".py",
   "mimetype": "text/x-python",
   "name": "python",
   "nbconvert_exporter": "python",
   "pygments_lexer": "ipython3",
   "version": "3.8.12"
  }
 },
 "nbformat": 4,
 "nbformat_minor": 5
}
