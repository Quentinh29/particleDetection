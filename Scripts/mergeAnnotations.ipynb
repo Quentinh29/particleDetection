{
 "cells": [
  {
   "cell_type": "code",
   "execution_count": 1,
   "id": "befeb472-e42b-4d97-a400-e3293d493e36",
   "metadata": {},
   "outputs": [],
   "source": [
    "import json"
   ]
  },
  {
   "cell_type": "code",
   "execution_count": 2,
   "id": "76db079b-a8f6-4eb0-8097-96c36b07d51f",
   "metadata": {},
   "outputs": [],
   "source": [
    "old_coco_annotations = 'mergedAnnotations/testv3.json'\n",
    "with open(old_coco_annotations, 'r') as f:\n",
    "    oldData = json.load(f)"
   ]
  },
  {
   "cell_type": "code",
   "execution_count": 3,
   "id": "03e8a306-aeab-4056-ba37-5a374d0b0b13",
   "metadata": {},
   "outputs": [
    {
     "name": "stdout",
     "output_type": "stream",
     "text": [
      "{'id': 36806, 'image_id': 38787, 'category_id': 3, 'segmentation': [[772.8, 884.6, 772.8, 774.5, 845.0, 774.5, 845.0, 884.6]], 'area': 7920, 'bbox': [773.0, 775.0, 72.0, 110.0], 'iscrowd': False, 'isbbox': True, 'color': '#06f59d', 'metadata': {}}\n",
      "{'id': 36807, 'image_id': 38787, 'category_id': 3, 'segmentation': [[1045.1, 796.8, 1045.1, 901.7, 1022.1, 901.7, 1022.1, 796.8]], 'area': 2415, 'bbox': [1022.0, 797.0, 23.0, 105.0], 'iscrowd': False, 'isbbox': True, 'color': '#e56e05', 'metadata': {}}\n",
      "{'id': 36808, 'image_id': 38787, 'category_id': 24, 'segmentation': [[732.4, 1096.2, 732.4, 1106.9, 723.1, 1106.9, 723.1, 1096.2]], 'area': 99, 'bbox': [723.0, 1096.0, 9.0, 11.0], 'iscrowd': False, 'isbbox': True, 'color': '#08cadd', 'metadata': {}}\n"
     ]
    }
   ],
   "source": [
    "for i in oldData['annotations']:\n",
    "    if i['image_id'] == 38787:\n",
    "        print(i)"
   ]
  },
  {
   "cell_type": "code",
   "execution_count": 79,
   "id": "571acb05-01c7-4933-96c9-0d454469ddb3",
   "metadata": {},
   "outputs": [
    {
     "data": {
      "text/plain": [
       "[{'id': 1,\n",
       "  'name': '100µm',\n",
       "  'supercategory': '',\n",
       "  'color': '#0ae2b5',\n",
       "  'metadata': {},\n",
       "  'creator': 'admin',\n",
       "  'keypoint_colors': []},\n",
       " {'id': 3,\n",
       "  'name': 'fibers',\n",
       "  'supercategory': '',\n",
       "  'color': '#c31e8f',\n",
       "  'metadata': {},\n",
       "  'creator': 'admin',\n",
       "  'keypoint_colors': []}]"
      ]
     },
     "execution_count": 79,
     "metadata": {},
     "output_type": "execute_result"
    }
   ],
   "source": [
    "old_coco_annotations = '../annotationsv3/train.json'\n",
    "with open(old_coco_annotations, 'r') as f:\n",
    "    oldData = json.load(f)\n",
    "\n",
    "coco_annotations = 'finalAnnotations/train.json'\n",
    "with open(coco_annotations, 'r') as f:\n",
    "    newData = json.load(f)\n",
    "\n",
    "oldData['categories']"
   ]
  },
  {
   "cell_type": "code",
   "execution_count": 80,
   "id": "865a4795-592f-452e-a76b-533d51b8d402",
   "metadata": {},
   "outputs": [
    {
     "data": {
      "text/plain": [
       "[{'id': 1,\n",
       "  'name': '100µm',\n",
       "  'supercategory': '',\n",
       "  'color': '#0ae2b5',\n",
       "  'metadata': {},\n",
       "  'creator': 'admin',\n",
       "  'keypoint_colors': []},\n",
       " {'id': 3,\n",
       "  'name': 'fibers',\n",
       "  'supercategory': '',\n",
       "  'color': '#c31e8f',\n",
       "  'metadata': {},\n",
       "  'keypoint_colors': []},\n",
       " {'id': 24,\n",
       "  'name': '50cµm',\n",
       "  'supercategory': '',\n",
       "  'color': '#08e735',\n",
       "  'metadata': {},\n",
       "  'keypoint_colors': []},\n",
       " {'id': 25,\n",
       "  'name': '150µm',\n",
       "  'supercategory': '',\n",
       "  'color': '#f10909',\n",
       "  'metadata': {},\n",
       "  'keypoint_colors': []},\n",
       " {'id': 26,\n",
       "  'name': 'Grey Particles from stopper',\n",
       "  'supercategory': '',\n",
       "  'color': '#0c09d3',\n",
       "  'metadata': {},\n",
       "  'keypoint_colors': []}]"
      ]
     },
     "execution_count": 80,
     "metadata": {},
     "output_type": "execute_result"
    }
   ],
   "source": [
    "# Final Categories\n",
    "\n",
    "finalCategories = [oldData['categories'][0]]\n",
    "for category in newData['categories']:\n",
    "    if category['id'] != 23:\n",
    "        finalCategories.append(category)\n",
    "        \n",
    "finalCategories"
   ]
  },
  {
   "cell_type": "code",
   "execution_count": 81,
   "id": "74a0703b-ca8e-4cef-a2f9-e32c70fd28ff",
   "metadata": {},
   "outputs": [],
   "source": [
    "# Final Images\n",
    "finalImages = oldData['images'] + newData['images']"
   ]
  },
  {
   "cell_type": "code",
   "execution_count": 73,
   "id": "66c56d65-b670-48eb-a34f-a65b20eace66",
   "metadata": {},
   "outputs": [
    {
     "data": {
      "text/plain": [
       "{'id': 2545,\n",
       " 'dataset_id': 41,\n",
       " 'category_ids': [3],\n",
       " 'path': '/datasets/Training Data for Particle Detection IFPAC/M10_10_02_03.png',\n",
       " 'width': 2430,\n",
       " 'height': 1130,\n",
       " 'file_name': 'M10_10_02_03.png',\n",
       " 'annotated': True,\n",
       " 'annotating': [],\n",
       " 'num_annotations': 1,\n",
       " 'metadata': {},\n",
       " 'milliseconds': 8515,\n",
       " 'events': [{'_cls': 'SessionEvent',\n",
       "   'user': 'admin',\n",
       "   'milliseconds': 6431,\n",
       "   'tools_used': []},\n",
       "  {'_cls': 'SessionEvent',\n",
       "   'user': 'admin',\n",
       "   'milliseconds': 1669,\n",
       "   'tools_used': []},\n",
       "  {'_cls': 'SessionEvent',\n",
       "   'user': 'admin',\n",
       "   'milliseconds': 415,\n",
       "   'tools_used': []}],\n",
       " 'regenerate_thumbnail': False,\n",
       " 'is_modified': False}"
      ]
     },
     "execution_count": 73,
     "metadata": {},
     "output_type": "execute_result"
    }
   ],
   "source": [
    "oldData['images'][0]"
   ]
  },
  {
   "cell_type": "code",
   "execution_count": 82,
   "id": "dbc62511-f418-4237-86e2-c45a1d542083",
   "metadata": {},
   "outputs": [],
   "source": [
    "ids = []\n",
    "for img in oldData['annotations']:\n",
    "    ids.append(img['id'])\n",
    "\n",
    "for img in newData['annotations']:\n",
    "    if img['id'] in ids:\n",
    "        print(img)"
   ]
  },
  {
   "cell_type": "code",
   "execution_count": 78,
   "id": "942162b7-be5f-4a20-b7e4-3dddd04e897a",
   "metadata": {},
   "outputs": [
    {
     "data": {
      "text/plain": [
       "12285"
      ]
     },
     "execution_count": 78,
     "metadata": {},
     "output_type": "execute_result"
    }
   ],
   "source": [
    "len(newData['annotations'])"
   ]
  },
  {
   "cell_type": "code",
   "execution_count": 83,
   "id": "7da6799e-cab5-4496-bcb0-98f768da2be9",
   "metadata": {},
   "outputs": [],
   "source": [
    "# Final Annotations\n",
    "finalAnnotations = []\n",
    "\n",
    "for annotation in oldData['annotations']:\n",
    "    finalAnnotations.append(annotation)\n",
    "    \n",
    "for annotation in newData['annotations']:\n",
    "    if annotation['category_id'] == 23:\n",
    "        tempAnnotation = annotation\n",
    "        tempAnnotation['category_id'] = 1\n",
    "        finalAnnotations.append(tempAnnotation)\n",
    "    else:\n",
    "        finalAnnotations.append(annotation)\n"
   ]
  },
  {
   "cell_type": "code",
   "execution_count": 84,
   "id": "7db6b629-0cb8-43f6-9830-12e74970ae27",
   "metadata": {},
   "outputs": [],
   "source": [
    "finalData = {'images': finalImages,\n",
    "             'categories': finalCategories,\n",
    "             'annotations': finalAnnotations}\n",
    "\n",
    "file_name = \"mergedAnnotations/train.json\"\n",
    "with open(file_name, \"w\") as json_file:\n",
    "    json.dump(finalData, json_file, indent=4)"
   ]
  },
  {
   "cell_type": "code",
   "execution_count": null,
   "id": "aefbe1ee-a85a-439c-a8a8-61009c00f396",
   "metadata": {},
   "outputs": [],
   "source": [
    "finalAnnotations = []\n",
    "for annotation in data['annotations']:\n",
    "    if annotation['image_id'] not in imagesIdToRemove and annotation['category_id'] != 16:\n",
    "        finalAnnotations.append(annotation)\n",
    "        #imagesWithAnnotations.append(annotation['image_id'])\n",
    "\n",
    "finalImages = []\n",
    "#imagesWithAnnotations = list(set(imagesWithAnnotations))\n",
    "for image in data['images']:\n",
    "    if not image['id'] in imagesIdToRemove: # and image['id'] in imagesWithAnnotations:\n",
    "        finalImages.append(image)\n",
    "        \n",
    "finalCategories = []\n",
    "for category in data['categories']:\n",
    "    if category['name'] not in ['50µm']:\n",
    "        finalCategories.append(category)\n",
    "        \n"
   ]
  },
  {
   "cell_type": "code",
   "execution_count": 8,
   "id": "6c3f3633-2c01-4eec-ad8a-1b6a3d6256cc",
   "metadata": {},
   "outputs": [
    {
     "data": {
      "text/plain": [
       "[{'id': 3,\n",
       "  'name': 'fibers',\n",
       "  'supercategory': '',\n",
       "  'color': '#c31e8f',\n",
       "  'metadata': {},\n",
       "  'keypoint_colors': []},\n",
       " {'id': 23,\n",
       "  'name': '100µm',\n",
       "  'supercategory': '',\n",
       "  'color': '#d30ae5',\n",
       "  'metadata': {},\n",
       "  'keypoint_colors': []},\n",
       " {'id': 24,\n",
       "  'name': '50cµm',\n",
       "  'supercategory': '',\n",
       "  'color': '#08e735',\n",
       "  'metadata': {},\n",
       "  'keypoint_colors': []},\n",
       " {'id': 25,\n",
       "  'name': '150µm',\n",
       "  'supercategory': '',\n",
       "  'color': '#f10909',\n",
       "  'metadata': {},\n",
       "  'keypoint_colors': []},\n",
       " {'id': 26,\n",
       "  'name': 'Grey Particles from stopper',\n",
       "  'supercategory': '',\n",
       "  'color': '#0c09d3',\n",
       "  'metadata': {},\n",
       "  'keypoint_colors': []}]"
      ]
     },
     "execution_count": 8,
     "metadata": {},
     "output_type": "execute_result"
    }
   ],
   "source": [
    "newData['categories']\n"
   ]
  },
  {
   "cell_type": "code",
   "execution_count": 1,
   "id": "42714dfa-3db1-4720-856e-4af6decee060",
   "metadata": {},
   "outputs": [
    {
     "name": "stdout",
     "output_type": "stream",
     "text": [
      "[{'id': 1, 'name': '100µm', 'supercategory': '', 'color': '#0ae2b5', 'metadata': {}, 'creator': 'admin', 'keypoint_colors': []}, {'id': 3, 'name': 'fibers', 'supercategory': '', 'color': '#c31e8f', 'metadata': {}, 'keypoint_colors': []}, {'id': 24, 'name': '50cµm', 'supercategory': '', 'color': '#08e735', 'metadata': {}, 'keypoint_colors': []}, {'id': 25, 'name': '150µm', 'supercategory': '', 'color': '#f10909', 'metadata': {}, 'keypoint_colors': []}, {'id': 26, 'name': 'Grey Particles from stopper', 'supercategory': '', 'color': '#0c09d3', 'metadata': {}, 'keypoint_colors': []}]\n",
      "[{'id': 3, 'name': 'fibers', 'supercategory': '', 'color': '#c31e8f', 'metadata': {}, 'keypoint_colors': []}, {'id': 23, 'name': '100µm', 'supercategory': '', 'color': '#d30ae5', 'metadata': {}, 'keypoint_colors': []}, {'id': 24, 'name': '50cµm', 'supercategory': '', 'color': '#08e735', 'metadata': {}, 'keypoint_colors': []}, {'id': 25, 'name': '150µm', 'supercategory': '', 'color': '#f10909', 'metadata': {}, 'keypoint_colors': []}, {'id': 26, 'name': 'Grey Particles from stopper', 'supercategory': '', 'color': '#0c09d3', 'metadata': {}, 'keypoint_colors': []}]\n"
     ]
    }
   ],
   "source": [
    "import json\n",
    "\n",
    "\n",
    "coco_annotations = 'mergedAnnotations/train.json'\n",
    "with open(coco_annotations, 'r') as f:\n",
    "    trainData = json.load(f)\n",
    "    \n",
    "coco_annotations = 'mergedAnnotations/test.json'\n",
    "with open(coco_annotations, 'r') as f:\n",
    "    testData = json.load(f)\n",
    "    \n",
    "print(trainData['categories'])\n",
    "print(testData['categories'])"
   ]
  },
  {
   "cell_type": "code",
   "execution_count": 7,
   "id": "94a589a1-5d1b-405a-b9d6-a6de3a0d6222",
   "metadata": {},
   "outputs": [
    {
     "data": {
      "text/plain": [
       "{'id': 41531,\n",
       " 'dataset_id': 49,\n",
       " 'category_ids': [],\n",
       " 'path': '/datasets/Reference data set/T_9_ref_10_08.png',\n",
       " 'width': 2430,\n",
       " 'height': 1130,\n",
       " 'file_name': 'T_9_ref_10_08.png',\n",
       " 'annotated': False,\n",
       " 'annotating': [],\n",
       " 'num_annotations': 0,\n",
       " 'metadata': {},\n",
       " 'deleted': False,\n",
       " 'milliseconds': 0,\n",
       " 'events': [],\n",
       " 'regenerate_thumbnail': False}"
      ]
     },
     "execution_count": 7,
     "metadata": {},
     "output_type": "execute_result"
    }
   ],
   "source": [
    "exampleDict"
   ]
  },
  {
   "cell_type": "code",
   "execution_count": 2,
   "id": "eb731903-09ca-46ac-8551-94bb30a6532d",
   "metadata": {},
   "outputs": [
    {
     "data": {
      "text/plain": [
       "3000"
      ]
     },
     "execution_count": 2,
     "metadata": {},
     "output_type": "execute_result"
    }
   ],
   "source": [
    "\n",
    "        \n",
    "len(newImages)    "
   ]
  },
  {
   "cell_type": "code",
   "execution_count": 2,
   "id": "9bf6863f-68b0-46d6-ac00-3895e800e163",
   "metadata": {},
   "outputs": [],
   "source": [
    "import glob\n",
    "import json\n",
    "\n",
    "\n",
    "finalAnnotations = []\n",
    "\n",
    "for annotation in testData['annotations']:\n",
    "    if annotation['category_id'] == 23:\n",
    "        tempAnnotation = annotation\n",
    "        tempAnnotation['category_id'] = 1\n",
    "        finalAnnotations.append(tempAnnotation)\n",
    "    else:\n",
    "        finalAnnotations.append(annotation)\n",
    "        \n",
    "annotatedImages = []\n",
    "for img in testData['images']:\n",
    "    annotatedImages.append(img['file_name'])\n",
    "\n",
    "    \n",
    "newImages = testData['images'].copy()\n",
    "for img in glob.glob(\"mergedImages/test/*.png\"):\n",
    "    short_name = img.rsplit(\"/\", 1)[1]\n",
    "    if short_name not in annotatedImages:\n",
    "        tempDict = newImages[-1].copy()\n",
    "        path = '/datasets/Reference data set/' + short_name\n",
    "        tempDict['id'] = tempDict['id'] + 1\n",
    "        tempDict['path'] = path\n",
    "        tempDict['file_name'] = short_name\n",
    "        newImages.append(tempDict)        \n",
    "        \n",
    "        \n",
    "        \n",
    "finalData = {'images': newImages,\n",
    "             'categories': trainData['categories'],\n",
    "             'annotations': finalAnnotations}\n",
    "\n",
    "file_name = \"mergedAnnotations/testv3.json\"\n",
    "with open(file_name, \"w\") as json_file:\n",
    "    json.dump(finalData, json_file, indent=4)"
   ]
  },
  {
   "cell_type": "code",
   "execution_count": null,
   "id": "d29fbcf7-a8d7-45bc-a2f3-f7de9de073c5",
   "metadata": {},
   "outputs": [],
   "source": []
  }
 ],
 "metadata": {
  "kernelspec": {
   "display_name": "Python 3 (ipykernel)",
   "language": "python",
   "name": "python3"
  },
  "language_info": {
   "codemirror_mode": {
    "name": "ipython",
    "version": 3
   },
   "file_extension": ".py",
   "mimetype": "text/x-python",
   "name": "python",
   "nbconvert_exporter": "python",
   "pygments_lexer": "ipython3",
   "version": "3.8.12"
  }
 },
 "nbformat": 4,
 "nbformat_minor": 5
}
